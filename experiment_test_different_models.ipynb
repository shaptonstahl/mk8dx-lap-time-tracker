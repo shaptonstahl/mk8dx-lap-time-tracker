{
 "cells": [
  {
   "cell_type": "markdown",
   "metadata": {},
   "source": [
    "# Testing different models"
   ]
  },
  {
   "cell_type": "code",
   "execution_count": 1,
   "metadata": {},
   "outputs": [],
   "source": [
    "import subprocess\n",
    "from PIL import Image\n",
    "import tempfile"
   ]
  },
  {
   "cell_type": "code",
   "execution_count": 8,
   "metadata": {},
   "outputs": [],
   "source": [
    "ocr_result = subprocess.run(['ocrs', './data/test_images/2019102710534900_c.jpg'], stdout=subprocess.PIPE)"
   ]
  },
  {
   "cell_type": "code",
   "execution_count": null,
   "metadata": {},
   "outputs": [],
   "source": [
    "print(ocr_result.stdout.decode('utf-8'))"
   ]
  },
  {
   "cell_type": "code",
   "execution_count": 14,
   "metadata": {},
   "outputs": [],
   "source": [
    "image_file = 'data/test_images/2019102710534900_c.jpg'\n",
    "\n",
    "test_image = Image.open(image_file)"
   ]
  },
  {
   "cell_type": "code",
   "execution_count": 19,
   "metadata": {},
   "outputs": [],
   "source": [
    "cropped_test_image = test_image.crop([788, 110, 1074, 143])"
   ]
  },
  {
   "cell_type": "code",
   "execution_count": 27,
   "metadata": {},
   "outputs": [
    {
     "name": "stdout",
     "output_type": "stream",
     "text": [
      "Ander\n",
      "\n"
     ]
    }
   ],
   "source": [
    "temp_file_name = 'data/test_images/temp.jpg'\n",
    "cropped_test_image.save(temp_file_name)\n",
    "cropped_ocr_result = subprocess.run(['ocrs', temp_file_name], stdout=subprocess.PIPE)\n",
    "\n",
    "print(cropped_ocr_result.stdout.decode('utf-8'))"
   ]
  },
  {
   "cell_type": "code",
   "execution_count": 1,
   "metadata": {},
   "outputs": [],
   "source": [
    "ocr_result = subprocess.run(['ocrs', './data/test_images/2019102710534900_c.jpg'], stdout=subprocess.PIPE)"
   ]
  },
  {
   "cell_type": "code",
   "execution_count": 1,
   "metadata": {},
   "outputs": [
    {
     "name": "stdout",
     "output_type": "stream",
     "text": [
      "WARNING:tensorflow:From c:\\Users\\steve\\OneDrive\\Documents\\GitHub\\mk8dx-lap-time-tracker\\.venv\\lib\\site-packages\\keras\\src\\losses.py:2976: The name tf.losses.sparse_softmax_cross_entropy is deprecated. Please use tf.compat.v1.losses.sparse_softmax_cross_entropy instead.\n",
      "\n"
     ]
    },
    {
     "name": "stderr",
     "output_type": "stream",
     "text": [
      "c:\\Users\\steve\\OneDrive\\Documents\\GitHub\\mk8dx-lap-time-tracker\\.venv\\lib\\site-packages\\tensorflow_addons\\utils\\tfa_eol_msg.py:23: UserWarning: \n",
      "\n",
      "TensorFlow Addons (TFA) has ended development and introduction of new features.\n",
      "TFA has entered a minimal maintenance and release mode until a planned end of life in May 2024.\n",
      "Please modify downstream libraries to take dependencies from other repositories in our TensorFlow community (e.g. Keras, Keras-CV, and Keras-NLP). \n",
      "\n",
      "For more information see: https://github.com/tensorflow/addons/issues/2807 \n",
      "\n",
      "  warnings.warn(\n",
      "c:\\Users\\steve\\OneDrive\\Documents\\GitHub\\mk8dx-lap-time-tracker\\.venv\\lib\\site-packages\\tensorflow_addons\\utils\\ensure_tf_install.py:53: UserWarning: Tensorflow Addons supports using Python ops for all Tensorflow versions above or equal to 2.12.0 and strictly below 2.15.0 (nightly versions are not supported). \n",
      " The versions of TensorFlow you are currently using is 2.15.1 and is not supported. \n",
      "Some things might work, some things might not.\n",
      "If you were to encounter a bug, do not file an issue.\n",
      "If you want to make sure you're using a tested and supported configuration, either change the TensorFlow version or the TensorFlow Addons's version. \n",
      "You can find the compatibility matrix in TensorFlow Addon's readme:\n",
      "https://github.com/tensorflow/addons\n",
      "  warnings.warn(\n"
     ]
    }
   ],
   "source": [
    "from calamari_ocr.ocr.predict.predictor import Predictor, PredictorParams"
   ]
  },
  {
   "cell_type": "code",
   "execution_count": 2,
   "metadata": {},
   "outputs": [
    {
     "ename": "Exception",
     "evalue": "Modules of checkpoint version 2 can only be upgraded by Tensorflow version 2.4. Please downgrade Tensorflow to 2.4.x (`pip install tensorflow~=2.4.0`) to convert the model to a newer version. Afterwards you can upgrade Tensorflow to a newer version (`pip install -U tensorflow`) and continue the model upgrade (if required).",
     "output_type": "error",
     "traceback": [
      "\u001b[1;31m---------------------------------------------------------------------------\u001b[0m",
      "\u001b[1;31mException\u001b[0m                                 Traceback (most recent call last)",
      "Cell \u001b[1;32mIn[2], line 1\u001b[0m\n\u001b[1;32m----> 1\u001b[0m predictor \u001b[38;5;241m=\u001b[39m \u001b[43mPredictor\u001b[49m\u001b[38;5;241;43m.\u001b[39;49m\u001b[43mfrom_checkpoint\u001b[49m\u001b[43m(\u001b[49m\n\u001b[0;32m      2\u001b[0m \u001b[43m    \u001b[49m\u001b[43mparams\u001b[49m\u001b[38;5;241;43m=\u001b[39;49m\u001b[43mPredictorParams\u001b[49m\u001b[43m(\u001b[49m\u001b[43m)\u001b[49m\u001b[43m,\u001b[49m\n\u001b[0;32m      3\u001b[0m \u001b[43m    \u001b[49m\u001b[43mcheckpoint\u001b[49m\u001b[38;5;241;43m=\u001b[39;49m\u001b[38;5;124;43m'\u001b[39;49m\u001b[38;5;124;43m./models/calamari_models-1.0/antiqua_modern/0.ckpt.json\u001b[39;49m\u001b[38;5;124;43m'\u001b[39;49m\u001b[43m)\u001b[49m\n\u001b[0;32m      4\u001b[0m raw_predictor \u001b[38;5;241m=\u001b[39m predictor\u001b[38;5;241m.\u001b[39mraw()\u001b[38;5;241m.\u001b[39m\u001b[38;5;21m__enter__\u001b[39m()\n",
      "File \u001b[1;32mc:\\Users\\steve\\OneDrive\\Documents\\GitHub\\mk8dx-lap-time-tracker\\.venv\\lib\\site-packages\\calamari_ocr\\ocr\\predict\\predictor.py:22\u001b[0m, in \u001b[0;36mPredictor.from_checkpoint\u001b[1;34m(params, checkpoint, auto_update_checkpoints)\u001b[0m\n\u001b[0;32m     19\u001b[0m \u001b[38;5;129m@staticmethod\u001b[39m\n\u001b[0;32m     20\u001b[0m \u001b[38;5;28;01mdef\u001b[39;00m \u001b[38;5;21mfrom_checkpoint\u001b[39m(params: PredictorParams, checkpoint: \u001b[38;5;28mstr\u001b[39m, auto_update_checkpoints\u001b[38;5;241m=\u001b[39m\u001b[38;5;28;01mTrue\u001b[39;00m):\n\u001b[0;32m     21\u001b[0m     DeviceConfig(params\u001b[38;5;241m.\u001b[39mdevice)  \u001b[38;5;66;03m# Device must be specified first\u001b[39;00m\n\u001b[1;32m---> 22\u001b[0m     ckpt \u001b[38;5;241m=\u001b[39m \u001b[43mSavedCalamariModel\u001b[49m\u001b[43m(\u001b[49m\u001b[43mcheckpoint\u001b[49m\u001b[43m,\u001b[49m\u001b[43m \u001b[49m\u001b[43mauto_update\u001b[49m\u001b[38;5;241;43m=\u001b[39;49m\u001b[43mauto_update_checkpoints\u001b[49m\u001b[43m)\u001b[49m\n\u001b[0;32m     23\u001b[0m     scenario_params \u001b[38;5;241m=\u001b[39m CalamariScenario\u001b[38;5;241m.\u001b[39mparams_from_dict(ckpt\u001b[38;5;241m.\u001b[39mdict)\n\u001b[0;32m     24\u001b[0m     scenario \u001b[38;5;241m=\u001b[39m CalamariScenario(scenario_params)\n",
      "File \u001b[1;32mc:\\Users\\steve\\OneDrive\\Documents\\GitHub\\mk8dx-lap-time-tracker\\.venv\\lib\\site-packages\\calamari_ocr\\ocr\\savedmodel\\saved_model.py:32\u001b[0m, in \u001b[0;36mSavedCalamariModel.__init__\u001b[1;34m(self, json_path, auto_update, dry_run)\u001b[0m\n\u001b[0;32m     30\u001b[0m \u001b[38;5;28;01mif\u001b[39;00m \u001b[38;5;28mself\u001b[39m\u001b[38;5;241m.\u001b[39mversion \u001b[38;5;241m!=\u001b[39m SavedCalamariModel\u001b[38;5;241m.\u001b[39mVERSION:\n\u001b[0;32m     31\u001b[0m     \u001b[38;5;28;01mif\u001b[39;00m auto_update:\n\u001b[1;32m---> 32\u001b[0m         \u001b[38;5;28;43mself\u001b[39;49m\u001b[38;5;241;43m.\u001b[39;49m\u001b[43mupdate_checkpoint\u001b[49m\u001b[43m(\u001b[49m\u001b[43m)\u001b[49m\n\u001b[0;32m     33\u001b[0m     \u001b[38;5;28;01melse\u001b[39;00m:\n\u001b[0;32m     34\u001b[0m         \u001b[38;5;28;01mraise\u001b[39;00m \u001b[38;5;167;01mException\u001b[39;00m(\n\u001b[0;32m     35\u001b[0m             \u001b[38;5;124m\"\u001b[39m\u001b[38;5;124mVersion of checkpoint is \u001b[39m\u001b[38;5;132;01m{}\u001b[39;00m\u001b[38;5;124m but \u001b[39m\u001b[38;5;132;01m{}\u001b[39;00m\u001b[38;5;124m is required. Please upgrade the model or \u001b[39m\u001b[38;5;124m\"\u001b[39m\n\u001b[0;32m     36\u001b[0m             \u001b[38;5;124m\"\u001b[39m\u001b[38;5;124mset the auto update flag.\u001b[39m\u001b[38;5;124m\"\u001b[39m\u001b[38;5;241m.\u001b[39mformat(\u001b[38;5;28mself\u001b[39m\u001b[38;5;241m.\u001b[39mversion, SavedCalamariModel\u001b[38;5;241m.\u001b[39mVERSION)\n\u001b[0;32m     37\u001b[0m         )\n",
      "File \u001b[1;32mc:\\Users\\steve\\OneDrive\\Documents\\GitHub\\mk8dx-lap-time-tracker\\.venv\\lib\\site-packages\\calamari_ocr\\ocr\\savedmodel\\saved_model.py:57\u001b[0m, in \u001b[0;36mSavedCalamariModel.update_checkpoint\u001b[1;34m(self)\u001b[0m\n\u001b[0;32m     52\u001b[0m     \u001b[38;5;28;01mif\u001b[39;00m SavedCalamariModel\u001b[38;5;241m.\u001b[39mVERSION \u001b[38;5;241m<\u001b[39m \u001b[38;5;28mself\u001b[39m\u001b[38;5;241m.\u001b[39mversion:\n\u001b[0;32m     53\u001b[0m         \u001b[38;5;28;01mraise\u001b[39;00m \u001b[38;5;167;01mException\u001b[39;00m(\n\u001b[0;32m     54\u001b[0m             \u001b[38;5;124m\"\u001b[39m\u001b[38;5;124mDowngrading of models is not supported (\u001b[39m\u001b[38;5;132;01m{}\u001b[39;00m\u001b[38;5;124m to \u001b[39m\u001b[38;5;132;01m{}\u001b[39;00m\u001b[38;5;124m). Please upgrade your Calamari \u001b[39m\u001b[38;5;124m\"\u001b[39m\n\u001b[0;32m     55\u001b[0m             \u001b[38;5;124m\"\u001b[39m\u001b[38;5;124minstance (currently installed: \u001b[39m\u001b[38;5;132;01m{}\u001b[39;00m\u001b[38;5;124m)\u001b[39m\u001b[38;5;124m\"\u001b[39m\u001b[38;5;241m.\u001b[39mformat(\u001b[38;5;28mself\u001b[39m\u001b[38;5;241m.\u001b[39mversion, SavedCalamariModel\u001b[38;5;241m.\u001b[39mVERSION, __version__)\n\u001b[0;32m     56\u001b[0m         )\n\u001b[1;32m---> 57\u001b[0m     \u001b[38;5;28;43mself\u001b[39;49m\u001b[38;5;241;43m.\u001b[39;49m\u001b[43m_single_upgrade\u001b[49m\u001b[43m(\u001b[49m\u001b[43m)\u001b[49m\n\u001b[0;32m     59\u001b[0m logger\u001b[38;5;241m.\u001b[39minfo(\u001b[38;5;124mf\u001b[39m\u001b[38;5;124m\"\u001b[39m\u001b[38;5;124mSuccessfully upgraded checkpoint version to \u001b[39m\u001b[38;5;132;01m{\u001b[39;00mSavedCalamariModel\u001b[38;5;241m.\u001b[39mVERSION\u001b[38;5;132;01m}\u001b[39;00m\u001b[38;5;124m\"\u001b[39m)\n",
      "File \u001b[1;32mc:\\Users\\steve\\OneDrive\\Documents\\GitHub\\mk8dx-lap-time-tracker\\.venv\\lib\\site-packages\\calamari_ocr\\ocr\\savedmodel\\saved_model.py:78\u001b[0m, in \u001b[0;36mSavedCalamariModel._single_upgrade\u001b[1;34m(self)\u001b[0m\n\u001b[0;32m     75\u001b[0m \u001b[38;5;28;01mimport\u001b[39;00m \u001b[38;5;21;01mtensorflow\u001b[39;00m \u001b[38;5;28;01mas\u001b[39;00m \u001b[38;5;21;01mtf\u001b[39;00m\n\u001b[0;32m     77\u001b[0m \u001b[38;5;28;01mif\u001b[39;00m packaging\u001b[38;5;241m.\u001b[39mversion\u001b[38;5;241m.\u001b[39mparse(tf\u001b[38;5;241m.\u001b[39m__version__) \u001b[38;5;241m>\u001b[39m\u001b[38;5;241m=\u001b[39m packaging\u001b[38;5;241m.\u001b[39mversion\u001b[38;5;241m.\u001b[39mparse(\u001b[38;5;124m\"\u001b[39m\u001b[38;5;124m2.5.0\u001b[39m\u001b[38;5;124m\"\u001b[39m):\n\u001b[1;32m---> 78\u001b[0m     \u001b[38;5;28;01mraise\u001b[39;00m \u001b[38;5;167;01mException\u001b[39;00m(\n\u001b[0;32m     79\u001b[0m         \u001b[38;5;124m\"\u001b[39m\u001b[38;5;124mModules of checkpoint version 2 can only be upgraded by Tensorflow version 2.4. Please downgrade \u001b[39m\u001b[38;5;124m\"\u001b[39m\n\u001b[0;32m     80\u001b[0m         \u001b[38;5;124m\"\u001b[39m\u001b[38;5;124mTensorflow to 2.4.x (`pip install tensorflow~=2.4.0`) to convert the model to a newer version. \u001b[39m\u001b[38;5;124m\"\u001b[39m\n\u001b[0;32m     81\u001b[0m         \u001b[38;5;124m\"\u001b[39m\u001b[38;5;124mAfterwards you can upgrade Tensorflow to a newer version (`pip install -U tensorflow`) \u001b[39m\u001b[38;5;124m\"\u001b[39m\n\u001b[0;32m     82\u001b[0m         \u001b[38;5;124m\"\u001b[39m\u001b[38;5;124mand continue the model upgrade (if required).\u001b[39m\u001b[38;5;124m\"\u001b[39m\n\u001b[0;32m     83\u001b[0m     )\n\u001b[0;32m     85\u001b[0m \u001b[38;5;66;03m# Calamari 1.3 -> Calamari 2.1\u001b[39;00m\n\u001b[0;32m     86\u001b[0m \u001b[38;5;28mself\u001b[39m\u001b[38;5;241m.\u001b[39mdict \u001b[38;5;241m=\u001b[39m migrate2to5(\u001b[38;5;28mself\u001b[39m\u001b[38;5;241m.\u001b[39mdict)\n",
      "\u001b[1;31mException\u001b[0m: Modules of checkpoint version 2 can only be upgraded by Tensorflow version 2.4. Please downgrade Tensorflow to 2.4.x (`pip install tensorflow~=2.4.0`) to convert the model to a newer version. Afterwards you can upgrade Tensorflow to a newer version (`pip install -U tensorflow`) and continue the model upgrade (if required)."
     ]
    }
   ],
   "source": [
    "\n",
    "predictor = Predictor.from_checkpoint(\n",
    "    params=PredictorParams(),\n",
    "    checkpoint='./models/calamari_models-1.0/antiqua_modern/0.ckpt.json')\n",
    "raw_predictor = predictor.raw().__enter__()"
   ]
  },
  {
   "cell_type": "code",
   "execution_count": 3,
   "metadata": {},
   "outputs": [],
   "source": [
    "from mindee import Client, AsyncPredictResponse, product"
   ]
  },
  {
   "cell_type": "code",
   "execution_count": 4,
   "metadata": {},
   "outputs": [],
   "source": [
    "# Init a new client\n",
    "mindee_client = Client(api_key=\"e7335d292c9287461a7523e17d628f98\")"
   ]
  },
  {
   "cell_type": "code",
   "execution_count": 13,
   "metadata": {},
   "outputs": [],
   "source": [
    "my_endpoint = mindee_client.create_endpoint(\n",
    "    account_name=\"polimath\",\n",
    "    endpoint_name=\"mk8dx_screen_capture_kind_1\",\n",
    "    version=\"1\"\n",
    ")"
   ]
  },
  {
   "cell_type": "code",
   "execution_count": 14,
   "metadata": {},
   "outputs": [],
   "source": [
    "# Load a file from disk\n",
    "input_doc = mindee_client.source_from_path('./data/test_images/2019102710534900_c.jpg')"
   ]
  },
  {
   "cell_type": "code",
   "execution_count": 15,
   "metadata": {},
   "outputs": [],
   "source": [
    "result: AsyncPredictResponse = mindee_client.enqueue_and_parse(\n",
    "    product.GeneratedV1,\n",
    "    input_doc,\n",
    "    endpoint=my_endpoint\n",
    ")"
   ]
  },
  {
   "cell_type": "code",
   "execution_count": 16,
   "metadata": {},
   "outputs": [
    {
     "name": "stdout",
     "output_type": "stream",
     "text": [
      "########\n",
      "Document\n",
      "########\n",
      ":Mindee ID: f80f02d8-b9df-4edd-b240-199cc6cda7db\n",
      ":Filename: 2019102710534900_c.jpg\n",
      "\n",
      "Inference\n",
      "#########\n",
      ":Product: polimath/mk8dx_screen_capture_kind_1 v1.0\n",
      ":Rotation applied: Yes\n",
      "\n",
      "Prediction\n",
      "==========\n",
      ":glider: Gold Glider\n",
      ":lap_1_time: 0:28.703\n",
      ":lap_2_time: 0:28.330\n",
      ":lap_3_time: 0:27.706\n",
      ":overall_time: 1:24.799\n",
      ":racer: Ander\n",
      ":track: GCN Yoshi Circuit\n",
      ":vehicle: Biddybuggy\n",
      ":wheels: Roller\n",
      "\n"
     ]
    }
   ],
   "source": [
    "# Print a brief summary of the parsed data\n",
    "print(result.document)"
   ]
  },
  {
   "cell_type": "code",
   "execution_count": 17,
   "metadata": {},
   "outputs": [
    {
     "name": "stdout",
     "output_type": "stream",
     "text": [
      "glider = Gold Glider\n",
      "lap_1_time = 0:28.703\n",
      "lap_2_time = 0:28.330\n",
      "lap_3_time = 0:27.706\n",
      "overall_time = 1:24.799\n",
      "racer = Ander\n",
      "track = GCN Yoshi Circuit\n",
      "vehicle = Biddybuggy\n",
      "wheels = Roller\n"
     ]
    }
   ],
   "source": [
    "# # Iterate over all the fields in the document\n",
    "for field_name, field_values in result.document.inference.prediction.fields.items():\n",
    "    print(field_name, \"=\", field_values)"
   ]
  },
  {
   "cell_type": "code",
   "execution_count": 40,
   "metadata": {},
   "outputs": [
    {
     "name": "stdout",
     "output_type": "stream",
     "text": [
      "{'glider': 'Gold Glider', 'lap_1_time': '0:28.703', 'lap_2_time': '0:28.330', 'lap_3_time': '0:27.706', 'overall_time': '1:24.799', 'racer': 'Ander', 'track': 'GCN Yoshi Circuit', 'vehicle': 'Biddybuggy', 'wheels': 'Roller'}\n"
     ]
    }
   ],
   "source": [
    "output = {}\n",
    "for field_name, field_values in result.document.inference.prediction.fields.items():\n",
    "    output[field_name] = field_values.value\n",
    "print(output)"
   ]
  },
  {
   "cell_type": "code",
   "execution_count": 41,
   "metadata": {},
   "outputs": [
    {
     "data": {
      "text/plain": [
       "{'glider': 'Gold Glider',\n",
       " 'lap_1_time': '0:28.703',\n",
       " 'lap_2_time': '0:28.330',\n",
       " 'lap_3_time': '0:27.706',\n",
       " 'overall_time': '1:24.799',\n",
       " 'racer': 'Ander',\n",
       " 'track': 'GCN Yoshi Circuit',\n",
       " 'vehicle': 'Biddybuggy',\n",
       " 'wheels': 'Roller'}"
      ]
     },
     "execution_count": 41,
     "metadata": {},
     "output_type": "execute_result"
    }
   ],
   "source": [
    "{k:v.value for k,v in result.document.inference.prediction.fields.items()}"
   ]
  },
  {
   "cell_type": "code",
   "execution_count": null,
   "metadata": {},
   "outputs": [],
   "source": []
  }
 ],
 "metadata": {
  "kernelspec": {
   "display_name": ".venv",
   "language": "python",
   "name": "python3"
  },
  "language_info": {
   "codemirror_mode": {
    "name": "ipython",
    "version": 3
   },
   "file_extension": ".py",
   "mimetype": "text/x-python",
   "name": "python",
   "nbconvert_exporter": "python",
   "pygments_lexer": "ipython3",
   "version": "3.9.21"
  }
 },
 "nbformat": 4,
 "nbformat_minor": 2
}
