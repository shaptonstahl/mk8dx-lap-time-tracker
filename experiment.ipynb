{
 "cells": [
  {
   "cell_type": "markdown",
   "metadata": {},
   "source": [
    "# Experiment with recognizing times from MK8DX screenshots"
   ]
  },
  {
   "cell_type": "code",
   "execution_count": 21,
   "metadata": {},
   "outputs": [],
   "source": [
    "from transformers import AutoModel, AutoTokenizer\n",
    "import tempfile\n",
    "import PIL\n",
    "from pathlib import Path\n",
    "import warnings\n",
    "import os"
   ]
  },
  {
   "cell_type": "code",
   "execution_count": 27,
   "metadata": {},
   "outputs": [],
   "source": [
    "tokenizer = AutoTokenizer.from_pretrained('ucaslcl/GOT-OCR2_0', trust_remote_code=True, resume_download=None)"
   ]
  },
  {
   "cell_type": "code",
   "execution_count": null,
   "metadata": {},
   "outputs": [],
   "source": []
  },
  {
   "cell_type": "code",
   "execution_count": 29,
   "metadata": {},
   "outputs": [],
   "source": [
    "model = AutoModel.from_pretrained('ucaslcl/GOT-OCR2_0', \n",
    "                                  trust_remote_code=True, \n",
    "                                  low_cpu_mem_usage=True, \n",
    "                                  device_map='cuda', \n",
    "                                  use_safetensors=True, \n",
    "                                  pad_token_id=tokenizer.eos_token_id,\n",
    "                                  resume_download=None)"
   ]
  },
  {
   "cell_type": "code",
   "execution_count": 32,
   "metadata": {},
   "outputs": [],
   "source": [
    "model = model.eval().cuda()\n"
   ]
  },
  {
   "cell_type": "code",
   "execution_count": 13,
   "metadata": {},
   "outputs": [],
   "source": [
    "image_file = 'data/test_images/2019102710534900_c.jpg'"
   ]
  },
  {
   "cell_type": "code",
   "execution_count": 33,
   "metadata": {},
   "outputs": [
    {
     "name": "stderr",
     "output_type": "stream",
     "text": [
      "The attention mask and the pad token id were not set. As a consequence, you may observe unexpected behavior. Please pass your input's `attention_mask` to obtain reliable results.\n",
      "Setting `pad_token_id` to `eos_token_id`:151643 for open-end generation.\n"
     ]
    }
   ],
   "source": [
    "res = model.chat(tokenizer, image_file, ocr_type='ocr')"
   ]
  },
  {
   "cell_type": "code",
   "execution_count": 34,
   "metadata": {},
   "outputs": [
    {
     "name": "stdout",
     "output_type": "stream",
     "text": [
      "And e Solo Race 1:24.739 0:28.703 Race against Ghost 0:28.330 0:27.706 View Ghost Biddybuggy Roller Online Ghosts Gold Glider Upload Ghost Data GC N Yoshi Circuit A OK B\n"
     ]
    }
   ],
   "source": [
    "print(res)"
   ]
  },
  {
   "cell_type": "markdown",
   "metadata": {},
   "source": [
    "## Identify which kind of image we have"
   ]
  },
  {
   "cell_type": "markdown",
   "metadata": {},
   "source": [
    "We need a way to distinguish among at least three image formats:\n",
    "1. Blue background, track name at bottom, combo listed with text.\n",
    "2. Track background, racing alone (no ghost).\n",
    "3. Track background, racing against ghost.\n",
    "\n",
    "We also need a way to identify how many laps there are in the race. This can vary between two and five, with three being the most common."
   ]
  },
  {
   "cell_type": "markdown",
   "metadata": {},
   "source": [
    "### Determine kind of image"
   ]
  },
  {
   "cell_type": "code",
   "execution_count": 53,
   "metadata": {},
   "outputs": [],
   "source": [
    "class ImageToOCR():\n",
    "    def __init__(self, image_file_name):\n",
    "        self.image_file_name = image_file_name\n",
    "    \n",
    "    @property\n",
    "    def ocr(self) -> str:\n",
    "        return self.ocr_box(box='')\n",
    "    \n",
    "    def ocr_box(self, box='') -> str:\n",
    "        \"\"\"\n",
    "        Given a box defining opposite corners of a box in pixels,\n",
    "        return the text ocr'ed from that box.\n",
    "\n",
    "        box is a string containing an array of integers: '[x1, y1, x2, y2]'. \n",
    "        If empty, the box is the entire image.\n",
    "        \"\"\"\n",
    "        text = model.chat(tokenizer, self.image_file_name, ocr_type='ocr', ocr_box=box)\n",
    "        return text\n",
    "    \n",
    "    @property\n",
    "    def kind(self):\n",
    "        with PIL.Image.open(self.image_file_name) as f:\n",
    "            image_size = f.size\n",
    "        \n",
    "        lower_left_button = self.ocr_box(box='[109, 647, 138, 676]')\n",
    "        lower_right_lap_2_number = self.ocr_box(box='[1020, 456, 1044, 480]')\n",
    "        last_digit_top_lap_2 = self.ocr_box(box='[1162, 220, 1183, 253]')\n",
    "\n",
    "        if image_size != (1280, 720):\n",
    "            # Wrong size; can't be a screen capture from the Switch\n",
    "            self.image_kind = 'other'\n",
    "        elif lower_left_button == 'B':\n",
    "            # Looks for the B button in the lower left corner\n",
    "            self.image_kind = 1\n",
    "        elif lower_right_lap_2_number == '2':\n",
    "            # Looks for the second lap in the lower box of times.\n",
    "            # Assumes that the course has three laps.\n",
    "            self.image_kind = 3\n",
    "        elif int(last_digit_top_lap_2) is not None:\n",
    "            # If there's no lower box of times, looks for the second lap\n",
    "            # in the upper box of times.\n",
    "            self.image_kind = 2\n",
    "        else:\n",
    "            # Can't positively identify as one of the defined kinds.\n",
    "            self.image_kind = 'other'\n",
    "        return self.image_kind"
   ]
  },
  {
   "cell_type": "code",
   "execution_count": 55,
   "metadata": {},
   "outputs": [
    {
     "name": "stderr",
     "output_type": "stream",
     "text": [
      "The attention mask and the pad token id were not set. As a consequence, you may observe unexpected behavior. Please pass your input's `attention_mask` to obtain reliable results.\n",
      "Setting `pad_token_id` to `eos_token_id`:151643 for open-end generation.\n",
      "The attention mask and the pad token id were not set. As a consequence, you may observe unexpected behavior. Please pass your input's `attention_mask` to obtain reliable results.\n",
      "Setting `pad_token_id` to `eos_token_id`:151643 for open-end generation.\n",
      "The attention mask and the pad token id were not set. As a consequence, you may observe unexpected behavior. Please pass your input's `attention_mask` to obtain reliable results.\n",
      "Setting `pad_token_id` to `eos_token_id`:151643 for open-end generation.\n",
      "The attention mask and the pad token id were not set. As a consequence, you may observe unexpected behavior. Please pass your input's `attention_mask` to obtain reliable results.\n",
      "Setting `pad_token_id` to `eos_token_id`:151643 for open-end generation.\n",
      "The attention mask and the pad token id were not set. As a consequence, you may observe unexpected behavior. Please pass your input's `attention_mask` to obtain reliable results.\n",
      "Setting `pad_token_id` to `eos_token_id`:151643 for open-end generation.\n"
     ]
    },
    {
     "name": "stdout",
     "output_type": "stream",
     "text": [
      "data/test_images/2019102710534900_c.jpg: 1\n"
     ]
    },
    {
     "name": "stderr",
     "output_type": "stream",
     "text": [
      "The attention mask and the pad token id were not set. As a consequence, you may observe unexpected behavior. Please pass your input's `attention_mask` to obtain reliable results.\n",
      "Setting `pad_token_id` to `eos_token_id`:151643 for open-end generation.\n",
      "The attention mask and the pad token id were not set. As a consequence, you may observe unexpected behavior. Please pass your input's `attention_mask` to obtain reliable results.\n",
      "Setting `pad_token_id` to `eos_token_id`:151643 for open-end generation.\n"
     ]
    },
    {
     "name": "stdout",
     "output_type": "stream",
     "text": [
      "data/test_images/2023062418352400_s.jpg: 2\n"
     ]
    },
    {
     "name": "stderr",
     "output_type": "stream",
     "text": [
      "The attention mask and the pad token id were not set. As a consequence, you may observe unexpected behavior. Please pass your input's `attention_mask` to obtain reliable results.\n",
      "Setting `pad_token_id` to `eos_token_id`:151643 for open-end generation.\n",
      "The attention mask and the pad token id were not set. As a consequence, you may observe unexpected behavior. Please pass your input's `attention_mask` to obtain reliable results.\n",
      "Setting `pad_token_id` to `eos_token_id`:151643 for open-end generation.\n",
      "The attention mask and the pad token id were not set. As a consequence, you may observe unexpected behavior. Please pass your input's `attention_mask` to obtain reliable results.\n",
      "Setting `pad_token_id` to `eos_token_id`:151643 for open-end generation.\n"
     ]
    },
    {
     "name": "stdout",
     "output_type": "stream",
     "text": [
      "data/test_images/2023070714422000_s.jpg: 3\n"
     ]
    },
    {
     "name": "stderr",
     "output_type": "stream",
     "text": [
      "The attention mask and the pad token id were not set. As a consequence, you may observe unexpected behavior. Please pass your input's `attention_mask` to obtain reliable results.\n",
      "Setting `pad_token_id` to `eos_token_id`:151643 for open-end generation.\n",
      "The attention mask and the pad token id were not set. As a consequence, you may observe unexpected behavior. Please pass your input's `attention_mask` to obtain reliable results.\n",
      "Setting `pad_token_id` to `eos_token_id`:151643 for open-end generation.\n"
     ]
    },
    {
     "name": "stdout",
     "output_type": "stream",
     "text": [
      "data/test_images/dog.jpg: other\n"
     ]
    }
   ],
   "source": [
    "# kind 1\n",
    "image_file = 'data/test_images/2019102710534900_c.jpg'\n",
    "print(image_file + ': ' + str(ImageToOCR(image_file).kind))\n",
    "\n",
    "# kind 2\n",
    "image_file = 'data/test_images/2023062418352400_s.jpg'\n",
    "print(image_file + ': ' + str(ImageToOCR(image_file).kind))\n",
    "\n",
    "# kind 3\n",
    "image_file = 'data/test_images/2023070714422000_s.jpg'\n",
    "print(image_file + ': ' + str(ImageToOCR(image_file).kind))\n",
    "\n",
    "# kind other\n",
    "image_file = 'data/test_images/dog.jpg'\n",
    "print(image_file + ': ' + str(ImageToOCR(image_file).kind))"
   ]
  },
  {
   "cell_type": "code",
   "execution_count": null,
   "metadata": {},
   "outputs": [],
   "source": [
    "with PIL.Image.open(image_file) as f:\n",
    "    image_size = f.size\n",
    "\n",
    "if image_size != (1280, 720):\n",
    "    image_kind = 'other'\n",
    "elif ImageToOCR(image_file_name=image_file).ocr_box(box='[109, 647, 138, 676]') == 'B':\n",
    "    image_kind = 1\n",
    "elif ImageToOCR(image_file_name=image_file).ocr_box(box='[1022, 456, 1044, 480]') == '2':\n",
    "    image_kind = 3\n",
    "elif ImageToOCR(image_file_name=image_file).ocr_box(box='[1022, 226, 1044, 248]') == '2':\n",
    "    image_kind = 2\n",
    "else:\n",
    "    image_kind = 'other'\n",
    "\n",
    "print(image_kind)"
   ]
  },
  {
   "cell_type": "code",
   "execution_count": null,
   "metadata": {},
   "outputs": [],
   "source": []
  }
 ],
 "metadata": {
  "kernelspec": {
   "display_name": ".venv",
   "language": "python",
   "name": "python3"
  },
  "language_info": {
   "codemirror_mode": {
    "name": "ipython",
    "version": 3
   },
   "file_extension": ".py",
   "mimetype": "text/x-python",
   "name": "python",
   "nbconvert_exporter": "python",
   "pygments_lexer": "ipython3",
   "version": "3.10.16"
  }
 },
 "nbformat": 4,
 "nbformat_minor": 2
}
