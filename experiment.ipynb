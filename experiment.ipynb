{
 "cells": [
  {
   "cell_type": "markdown",
   "metadata": {},
   "source": [
    "# Experiment with recognizing times from MK8DX screenshots"
   ]
  },
  {
   "cell_type": "code",
   "execution_count": 72,
   "metadata": {},
   "outputs": [],
   "source": [
    "from transformers import AutoModel, AutoTokenizer\n",
    "import tempfile\n",
    "import PIL\n",
    "from pathlib import Path\n",
    "import warnings\n",
    "import os\n",
    "import sys\n",
    "import io\n",
    "import datetime as dt"
   ]
  },
  {
   "cell_type": "code",
   "execution_count": 51,
   "metadata": {},
   "outputs": [],
   "source": [
    "tokenizer = AutoTokenizer.from_pretrained('ucaslcl/GOT-OCR2_0', \n",
    "                                          trust_remote_code=True, \n",
    "                                          resume_download=None,\n",
    "                                          pad_token_id=151643)"
   ]
  },
  {
   "cell_type": "code",
   "execution_count": 52,
   "metadata": {},
   "outputs": [],
   "source": [
    "model = AutoModel.from_pretrained('ucaslcl/GOT-OCR2_0', \n",
    "                                  trust_remote_code=True, \n",
    "                                  low_cpu_mem_usage=True, \n",
    "                                  device_map='cuda', \n",
    "                                  use_safetensors=True, \n",
    "                                  pad_token_id=tokenizer.eos_token_id,\n",
    "                                  resume_download=None)"
   ]
  },
  {
   "cell_type": "code",
   "execution_count": 48,
   "metadata": {},
   "outputs": [],
   "source": [
    "model = model.eval().cuda()\n"
   ]
  },
  {
   "cell_type": "code",
   "execution_count": 49,
   "metadata": {},
   "outputs": [],
   "source": [
    "image_file = 'data/test_images/2019102710534900_c.jpg'"
   ]
  },
  {
   "cell_type": "code",
   "execution_count": 69,
   "metadata": {},
   "outputs": [
    {
     "name": "stderr",
     "output_type": "stream",
     "text": [
      "The attention mask and the pad token id were not set. As a consequence, you may observe unexpected behavior. Please pass your input's `attention_mask` to obtain reliable results.\n",
      "Setting `pad_token_id` to `eos_token_id`:151643 for open-end generation.\n"
     ]
    }
   ],
   "source": [
    "res = model.chat(tokenizer, image_file, ocr_type='ocr')"
   ]
  },
  {
   "cell_type": "code",
   "execution_count": 71,
   "metadata": {},
   "outputs": [
    {
     "name": "stdout",
     "output_type": "stream",
     "text": [
      "And e Solo Race 1:24.739 0:28.703 Race against Ghost 0:28.330 0:27.706 View Ghost Biddybuggy Roller Online Ghosts Gold Glider Upload Ghost Data GC N Yoshi Circuit A OK B\n"
     ]
    }
   ],
   "source": [
    "print(res)"
   ]
  },
  {
   "cell_type": "markdown",
   "metadata": {},
   "source": [
    "## Identify which kind of image we have"
   ]
  },
  {
   "cell_type": "markdown",
   "metadata": {},
   "source": [
    "We need a way to distinguish among at least three image formats:\n",
    "1. Blue background, track name at bottom, combo listed with text.\n",
    "2. Track background, racing alone (no ghost).\n",
    "3. Track background, racing against ghost.\n",
    "\n",
    "We also need a way to identify how many laps there are in the race. This can vary between two and five, with three being the most common."
   ]
  },
  {
   "cell_type": "markdown",
   "metadata": {},
   "source": [
    "### Determine kind of image"
   ]
  },
  {
   "cell_type": "code",
   "execution_count": 122,
   "metadata": {},
   "outputs": [],
   "source": [
    "class ImageToOCR():\n",
    "    def __init__(self, image_file_name):\n",
    "        self.image_file_name = image_file_name\n",
    "    \n",
    "    @property\n",
    "    def ocr(self) -> str:\n",
    "        return self.ocr_box(box='')\n",
    "    \n",
    "    def ocr_box(self, box='') -> str:\n",
    "        \"\"\"\n",
    "        Given a box defining opposite corners of a box in pixels,\n",
    "        return the text ocr'ed from that box.\n",
    "\n",
    "        box is a string containing an array of integers: '[x1, y1, x2, y2]'. \n",
    "        If empty, the box is the entire image.\n",
    "        \"\"\"\n",
    "        text = model.chat(tokenizer, self.image_file_name, ocr_type='ocr', ocr_box=box)\n",
    "        return text\n",
    "    \n",
    "    @property\n",
    "    def kind(self) -> int:\n",
    "        with PIL.Image.open(self.image_file_name) as f:\n",
    "            image_size = f.size\n",
    "        \n",
    "        lower_left_button = self.ocr_box(box='[109, 647, 138, 676]')\n",
    "        lower_right_lap_2_number = self.ocr_box(box='[1020, 456, 1044, 480]')\n",
    "        last_digit_top_lap_2 = self.ocr_box(box='[1162, 220, 1183, 253]')\n",
    "\n",
    "        if image_size != (1280, 720):\n",
    "            # Wrong size; can't be a screen capture from the Switch\n",
    "            image_kind = 0\n",
    "        elif lower_left_button == 'B':\n",
    "            # Looks for the B button in the lower left corner\n",
    "            image_kind = 1\n",
    "        elif lower_right_lap_2_number == '2':\n",
    "            # Looks for the second lap in the lower box of times.\n",
    "            # Assumes that the course has three laps.\n",
    "            image_kind = 3\n",
    "        elif int(last_digit_top_lap_2) is not None:\n",
    "            # If there's no lower box of times, looks for the second lap\n",
    "            # in the upper box of times.\n",
    "            image_kind = 2\n",
    "        else:\n",
    "            # Can't positively identify as one of the defined kinds.\n",
    "            image_kind = 0\n",
    "        return image_kind\n",
    "    \n",
    "    def pull_data_from_image(self, kind=None) -> dict:\n",
    "        \"\"\"\n",
    "        Pulls information from image. Returns a dictionary of strings.\n",
    "        \"\"\"\n",
    "        if kind == None:\n",
    "            return self.pull_data_from_image(kind=self.kind)\n",
    "        if kind not in [1,2,3]:\n",
    "            return {'k': 'b'}\n",
    "        if kind == 1:\n",
    "            racer = self.ocr_box(box='[788, 110, 1074, 143]')\n",
    "            overall_time = self.ocr_box(box='[870, 182, 1074, 144]')\n",
    "            lap_times = {\n",
    "                1: self.ocr_box(box='[866, 250, 1026, 210]'),\n",
    "                2: self.ocr_box(box='[866, 290, 1026, 250]'),\n",
    "                3: self.ocr_box(box='[866, 330, 1026, 290]')\n",
    "            }\n",
    "            vehicle = self.ocr_box(box='[830, 350, 1100, 390]')\n",
    "            wheels = self.ocr_box(box='[830, 410, 1100, 450]')\n",
    "            glider = self.ocr_box(box='[830, 470, 1100, 510]')\n",
    "            track = self.ocr_box(box='[300, 640, 830, 690]')\n",
    "            output = {\n",
    "                'racer': racer,\n",
    "                'overall_time': overall_time,\n",
    "                'lap_times': lap_times,\n",
    "                'vehicle': vehicle,\n",
    "                'wheels': wheels,\n",
    "                'glider': glider,\n",
    "                'track': track\n",
    "            }\n",
    "            return output"
   ]
  },
  {
   "cell_type": "code",
   "execution_count": 123,
   "metadata": {},
   "outputs": [
    {
     "name": "stderr",
     "output_type": "stream",
     "text": [
      "The attention mask and the pad token id were not set. As a consequence, you may observe unexpected behavior. Please pass your input's `attention_mask` to obtain reliable results.\n",
      "Setting `pad_token_id` to `eos_token_id`:151643 for open-end generation.\n",
      "The attention mask and the pad token id were not set. As a consequence, you may observe unexpected behavior. Please pass your input's `attention_mask` to obtain reliable results.\n",
      "Setting `pad_token_id` to `eos_token_id`:151643 for open-end generation.\n",
      "The attention mask and the pad token id were not set. As a consequence, you may observe unexpected behavior. Please pass your input's `attention_mask` to obtain reliable results.\n",
      "Setting `pad_token_id` to `eos_token_id`:151643 for open-end generation.\n",
      "The attention mask and the pad token id were not set. As a consequence, you may observe unexpected behavior. Please pass your input's `attention_mask` to obtain reliable results.\n",
      "Setting `pad_token_id` to `eos_token_id`:151643 for open-end generation.\n"
     ]
    },
    {
     "name": "stdout",
     "output_type": "stream",
     "text": [
      "data/test_images/2019102710534900_c.jpg: 1\n"
     ]
    },
    {
     "name": "stderr",
     "output_type": "stream",
     "text": [
      "The attention mask and the pad token id were not set. As a consequence, you may observe unexpected behavior. Please pass your input's `attention_mask` to obtain reliable results.\n",
      "Setting `pad_token_id` to `eos_token_id`:151643 for open-end generation.\n",
      "The attention mask and the pad token id were not set. As a consequence, you may observe unexpected behavior. Please pass your input's `attention_mask` to obtain reliable results.\n",
      "Setting `pad_token_id` to `eos_token_id`:151643 for open-end generation.\n",
      "The attention mask and the pad token id were not set. As a consequence, you may observe unexpected behavior. Please pass your input's `attention_mask` to obtain reliable results.\n",
      "Setting `pad_token_id` to `eos_token_id`:151643 for open-end generation.\n",
      "The attention mask and the pad token id were not set. As a consequence, you may observe unexpected behavior. Please pass your input's `attention_mask` to obtain reliable results.\n",
      "Setting `pad_token_id` to `eos_token_id`:151643 for open-end generation.\n",
      "The attention mask and the pad token id were not set. As a consequence, you may observe unexpected behavior. Please pass your input's `attention_mask` to obtain reliable results.\n",
      "Setting `pad_token_id` to `eos_token_id`:151643 for open-end generation.\n",
      "The attention mask and the pad token id were not set. As a consequence, you may observe unexpected behavior. Please pass your input's `attention_mask` to obtain reliable results.\n",
      "Setting `pad_token_id` to `eos_token_id`:151643 for open-end generation.\n",
      "The attention mask and the pad token id were not set. As a consequence, you may observe unexpected behavior. Please pass your input's `attention_mask` to obtain reliable results.\n",
      "Setting `pad_token_id` to `eos_token_id`:151643 for open-end generation.\n",
      "The attention mask and the pad token id were not set. As a consequence, you may observe unexpected behavior. Please pass your input's `attention_mask` to obtain reliable results.\n",
      "Setting `pad_token_id` to `eos_token_id`:151643 for open-end generation.\n",
      "The attention mask and the pad token id were not set. As a consequence, you may observe unexpected behavior. Please pass your input's `attention_mask` to obtain reliable results.\n",
      "Setting `pad_token_id` to `eos_token_id`:151643 for open-end generation.\n"
     ]
    },
    {
     "name": "stdout",
     "output_type": "stream",
     "text": [
      "{'racer': 'Order', 'overall_time': '0:28.103', 'lap_times': {1: '0:28.106', 2: '0:27.106', 3: '0:27.106'}, 'vehicle': 'Biddybuggy', 'wheels': 'Roller', 'glider': 'Gold Glider', 'track': 'GCN Yoshi Circuit'}\n"
     ]
    },
    {
     "name": "stderr",
     "output_type": "stream",
     "text": [
      "The attention mask and the pad token id were not set. As a consequence, you may observe unexpected behavior. Please pass your input's `attention_mask` to obtain reliable results.\n",
      "Setting `pad_token_id` to `eos_token_id`:151643 for open-end generation.\n",
      "The attention mask and the pad token id were not set. As a consequence, you may observe unexpected behavior. Please pass your input's `attention_mask` to obtain reliable results.\n",
      "Setting `pad_token_id` to `eos_token_id`:151643 for open-end generation.\n",
      "The attention mask and the pad token id were not set. As a consequence, you may observe unexpected behavior. Please pass your input's `attention_mask` to obtain reliable results.\n",
      "Setting `pad_token_id` to `eos_token_id`:151643 for open-end generation.\n"
     ]
    },
    {
     "name": "stdout",
     "output_type": "stream",
     "text": [
      "data/test_images/2023062418352400_s.jpg: 2\n",
      "None\n"
     ]
    },
    {
     "name": "stderr",
     "output_type": "stream",
     "text": [
      "The attention mask and the pad token id were not set. As a consequence, you may observe unexpected behavior. Please pass your input's `attention_mask` to obtain reliable results.\n",
      "Setting `pad_token_id` to `eos_token_id`:151643 for open-end generation.\n",
      "The attention mask and the pad token id were not set. As a consequence, you may observe unexpected behavior. Please pass your input's `attention_mask` to obtain reliable results.\n",
      "Setting `pad_token_id` to `eos_token_id`:151643 for open-end generation.\n",
      "The attention mask and the pad token id were not set. As a consequence, you may observe unexpected behavior. Please pass your input's `attention_mask` to obtain reliable results.\n",
      "Setting `pad_token_id` to `eos_token_id`:151643 for open-end generation.\n"
     ]
    },
    {
     "name": "stdout",
     "output_type": "stream",
     "text": [
      "data/test_images/2023070714422000_s.jpg: 3\n",
      "None\n"
     ]
    },
    {
     "name": "stderr",
     "output_type": "stream",
     "text": [
      "The attention mask and the pad token id were not set. As a consequence, you may observe unexpected behavior. Please pass your input's `attention_mask` to obtain reliable results.\n",
      "Setting `pad_token_id` to `eos_token_id`:151643 for open-end generation.\n",
      "The attention mask and the pad token id were not set. As a consequence, you may observe unexpected behavior. Please pass your input's `attention_mask` to obtain reliable results.\n",
      "Setting `pad_token_id` to `eos_token_id`:151643 for open-end generation.\n"
     ]
    },
    {
     "name": "stdout",
     "output_type": "stream",
     "text": [
      "data/test_images/dog.jpg: 0\n",
      "{'k': 'b'}\n"
     ]
    }
   ],
   "source": [
    "# kind 1\n",
    "image_file = 'data/test_images/2019102710534900_c.jpg'\n",
    "print(image_file + ': ' + str(ImageToOCR(image_file).kind))\n",
    "print(ImageToOCR(image_file).pull_data_from_image(1))\n",
    "\n",
    "# kind 2\n",
    "image_file = 'data/test_images/2023062418352400_s.jpg'\n",
    "print(image_file + ': ' + str(ImageToOCR(image_file).kind))\n",
    "print(ImageToOCR(image_file).pull_data_from_image(2))\n",
    "\n",
    "# kind 3\n",
    "image_file = 'data/test_images/2023070714422000_s.jpg'\n",
    "print(image_file + ': ' + str(ImageToOCR(image_file).kind))\n",
    "print(ImageToOCR(image_file).pull_data_from_image(3))\n",
    "\n",
    "# kind other\n",
    "image_file = 'data/test_images/dog.jpg'\n",
    "print(image_file + ': ' + str(ImageToOCR(image_file).kind))\n",
    "print(ImageToOCR(image_file).pull_data_from_image(0))\n"
   ]
  },
  {
   "cell_type": "code",
   "execution_count": null,
   "metadata": {},
   "outputs": [],
   "source": []
  }
 ],
 "metadata": {
  "kernelspec": {
   "display_name": ".venv",
   "language": "python",
   "name": "python3"
  },
  "language_info": {
   "codemirror_mode": {
    "name": "ipython",
    "version": 3
   },
   "file_extension": ".py",
   "mimetype": "text/x-python",
   "name": "python",
   "nbconvert_exporter": "python",
   "pygments_lexer": "ipython3",
   "version": "3.10.16"
  }
 },
 "nbformat": 4,
 "nbformat_minor": 2
}
